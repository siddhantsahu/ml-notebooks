{
 "cells": [
  {
   "cell_type": "markdown",
   "metadata": {},
   "source": [
    "## N-Queens Problem\n",
    "\n",
    "*Given a NxN chessboard, can you place N queens such that they do not kill one another?*\n",
    "\n",
    "We will solve this as a constraint satisfaction problem, using the **minimum conflicts approach**."
   ]
  },
  {
   "cell_type": "code",
   "execution_count": 3,
   "metadata": {},
   "outputs": [],
   "source": [
    "from collections import defaultdict\n",
    "import itertools\n",
    "\n",
    "import numpy as np"
   ]
  },
  {
   "cell_type": "code",
   "execution_count": 10,
   "metadata": {},
   "outputs": [],
   "source": [
    "class NQueens:\n",
    "    \"\"\"Represents the N Queens problem as a constraint satisfaction problem.\n",
    "    \n",
    "    Data structure: dict (variable, value) format.\n",
    "    Variable: the row index, e.g. 0-7 in case of 8-queens\n",
    "    Value: the col index, again 0-7 (we change this)\n",
    "    \"\"\"\n",
    "    \n",
    "    def __init__(self, N=8, assignment='random'):\n",
    "        \"\"\"Initializes a NxN chessboard. Only stores positions of queens.\n",
    "        \n",
    "        Two methods to initialize the problem: greedy and random. Greedy generally\n",
    "        helps find a solution quicker than random initialization. Greedy initialization\n",
    "        selects the first value that is compatible with variables initialized so far.\n",
    "        \"\"\"\n",
    "        self.N = N\n",
    "        cols = list(range(N))\n",
    "        np.random.shuffle(cols)\n",
    "        self.assignment = {i: j for i, j in zip(range(N), cols)}\n",
    "        # TODO: greedy initialization\n",
    "        self.cache = defaultdict(list)\n",
    "        for k, v in self.assignment.items():\n",
    "            self.cache[k].append(v)\n",
    "    \n",
    "    def is_conflict(self, x1, x2, assignment):\n",
    "        \"\"\"Check if two variables (representing row numbers) conflict.\"\"\"\n",
    "        y1 = assignment[x1]\n",
    "        y2 = assignment[x2]\n",
    "        return x1 == x2 or y1 == y2 or x1 - x2 == y1 - y2\n",
    "    \n",
    "    def is_solution(self, assignment):\n",
    "        \"\"\"Check if the current assignment is a valid solution.\"\"\"\n",
    "        return len(self.assignment) == self.N and len(self.conflicted_vars(assignment)) == 0\n",
    "        \n",
    "    def n_conflicts(self, var, assignment):\n",
    "        \"\"\"Counts the number of conflicts for a particular variable (row index).\"\"\"\n",
    "        # check all combinations\n",
    "        return sum([self.is_conflict(var, el, assignment)\n",
    "                    for el in assignment if el != var])\n",
    "    \n",
    "    def conflicted_vars(self, assignment):\n",
    "        \"\"\"Return the list of variables that are conflicted.\"\"\"\n",
    "        return [v for v in assignment if self.n_conflicts(v, assignment) > 0]\n",
    "    \n",
    "    def record(self, var, val):\n",
    "        \"\"\"Track the changes we have tried.\"\"\"\n",
    "        self.cache[var].append(val)\n",
    "    \n",
    "    def min_conflicts_val(self, var, assignment):\n",
    "        \"\"\"Return the value for a variable that minimizes the number of conflicts.\"\"\"\n",
    "        m = self.n_conflicts(var, assignment)\n",
    "        val = assignment[var]\n",
    "        vals_to_try = [x for x in range(self.N) if x not in self.cache[var]]\n",
    "        if len(vals_to_try) == 0:\n",
    "            vals_to_try = list(range(self.N))\n",
    "        for j in vals_to_try:\n",
    "            if j == val:\n",
    "                continue\n",
    "            assignment[var] = j\n",
    "            tmp = self.n_conflicts(var, assignment)\n",
    "            if tmp <= m:\n",
    "                m = tmp\n",
    "                val = j\n",
    "        return val\n",
    "    \n",
    "    def min_conflicts(self, max_steps=1000):\n",
    "        \"\"\"Min conflicts approach to solving this problem.\"\"\"\n",
    "        current = self.assignment\n",
    "        for n_iter in range(max_steps):\n",
    "            if self.is_solution(current):\n",
    "                print(f'Found solution in {n_iter} iterations')\n",
    "                return current\n",
    "            var = np.random.choice(self.conflicted_vars(current))\n",
    "            val = self.min_conflicts_val(var, current)\n",
    "            current[var] = val\n",
    "            self.record(var, val)  # to avoid running into a deadlock like situation\n",
    "        return f'Failed after {max_steps} iterations. Try with more iterations or a different initial state.'"
   ]
  },
  {
   "cell_type": "markdown",
   "metadata": {},
   "source": [
    "The min conflicts approach is very effective in solving this type of problem because of the dense nature of the state space.\n",
    "\n",
    "**More things to try:**\n",
    "- Try larger values of N (implement in Java or Cython)\n",
    "- Compare (both memory and execution time) with solving the same problem using search methods, e.g. A*\n",
    "- Random vs. greedy initialization: does greedy initialization helps arriving at the solution quicker?"
   ]
  },
  {
   "cell_type": "code",
   "execution_count": 15,
   "metadata": {},
   "outputs": [
    {
     "name": "stdout",
     "output_type": "stream",
     "text": [
      "Found solution in 27 iterations\n",
      "Found solution in 20 iterations\n",
      "Found solution in 19 iterations\n",
      "Found solution in 24 iterations\n",
      "Found solution in 31 iterations\n",
      "Found solution in 59 iterations\n",
      "Found solution in 19 iterations\n",
      "Found solution in 36 iterations\n",
      "1.69 s ± 689 ms per loop (mean ± std. dev. of 7 runs, 1 loop each)\n"
     ]
    }
   ],
   "source": [
    "%%timeit\n",
    "\n",
    "n_queens = NQueens(50)\n",
    "tmp = n_queens.min_conflicts()"
   ]
  }
 ],
 "metadata": {
  "kernelspec": {
   "display_name": "Python 3",
   "language": "python",
   "name": "python3"
  },
  "language_info": {
   "codemirror_mode": {
    "name": "ipython",
    "version": 3
   },
   "file_extension": ".py",
   "mimetype": "text/x-python",
   "name": "python",
   "nbconvert_exporter": "python",
   "pygments_lexer": "ipython3",
   "version": "3.6.8"
  }
 },
 "nbformat": 4,
 "nbformat_minor": 2
}
