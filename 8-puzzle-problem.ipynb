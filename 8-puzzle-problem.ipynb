{
 "cells": [
  {
   "cell_type": "code",
   "execution_count": 14,
   "metadata": {},
   "outputs": [],
   "source": [
    "import sys\n",
    "import heapq\n",
    "from collections import deque\n",
    "\n",
    "\n",
    "class Problem(object):\n",
    "    def __init__(self, start, goal):\n",
    "        \"\"\"Initializes the 8 puzzle board with start and goal states.\"\"\"\n",
    "        # using tuple because it is hashable\n",
    "        self.start = start\n",
    "        self.goal = goal\n",
    "\n",
    "    def actions(self, state):\n",
    "        \"\"\"\n",
    "        Returns the list of actions possible in the given state.\n",
    "\n",
    "        We define action in terms of the movement of the blank tile, i.e. the\n",
    "        blank tile can move either left, right, up or down.\n",
    "        \"\"\"\n",
    "        # find index of blank tile, i.e. 0\n",
    "        ix = state.index(0)\n",
    "        actions = ['left', 'right', 'up', 'down']\n",
    "        if ix % 3 == 0:\n",
    "            actions.remove('left')\n",
    "        if ix < 3:\n",
    "            actions.remove('up')\n",
    "        if ix % 3 == 2:\n",
    "            actions.remove('right')\n",
    "        if ix > 5:\n",
    "            actions.remove('down')\n",
    "        return actions\n",
    "\n",
    "    def is_goal_state(self, state):\n",
    "        return self.goal == state\n",
    "\n",
    "    def result(self, state, action):\n",
    "        \"\"\"Returns the new state when the action is applied to a state.\"\"\"\n",
    "        change = 0\n",
    "        change = {'left': -1, 'right': 1, 'up': -3, 'down': 3}\n",
    "        blank_ix = state.index(0)\n",
    "        adjacent_ix = blank_ix + change[action]\n",
    "\n",
    "        # swap\n",
    "        new_state = list(state)  # tuple is immutable\n",
    "        new_state[blank_ix], new_state[adjacent_ix] = new_state[adjacent_ix], new_state[blank_ix]\n",
    "\n",
    "        return tuple(new_state)\n",
    "\n",
    "    def h(self, state, func=None):\n",
    "        \"\"\"Returns the h estimate for the given state when a heuristic function is\n",
    "        provided. Default heuristic is number of tiles at incorrect location\"\"\"\n",
    "        if func is None:  # number of tiles at incorrect location\n",
    "            return sum([1 for i in range(len(state)) if state[i] != self.goal[i]])\n",
    "        else:\n",
    "            return func(state, self.goal)\n",
    "\n",
    "\n",
    "class Node:\n",
    "    def __init__(self, state, parent=None, action=None, path_cost=0):\n",
    "        self.state = state\n",
    "        self.parent = parent\n",
    "        self.action = action\n",
    "        self.path_cost = path_cost\n",
    "        self.depth = 0\n",
    "        self.f = path_cost\n",
    "        if parent:\n",
    "            self.depth = self.parent.depth + 1\n",
    "\n",
    "    def child_node(self, problem, action):\n",
    "        \"\"\"Compute child node given parent node.\"\"\"\n",
    "        new_state = problem.result(self.state, action)\n",
    "        path_cost = self.path_cost + 1\n",
    "        return Node(new_state, self, action, path_cost)\n",
    "\n",
    "    def __repr__(self):\n",
    "        return '{}\\t{}'.format(self.state, self.action)\n",
    "\n",
    "    def __hash__(self):\n",
    "        return hash(self.state)\n",
    "\n",
    "    def __eq__(self, other):\n",
    "        return self.state == other.state\n",
    "\n",
    "    def __lt__(self, other):\n",
    "        return self.f < other.f"
   ]
  },
  {
   "cell_type": "markdown",
   "metadata": {},
   "source": [
    "### Uninformed search: BFS"
   ]
  },
  {
   "cell_type": "code",
   "execution_count": 15,
   "metadata": {},
   "outputs": [],
   "source": [
    "def breadth_first_search(problem):\n",
    "    \"\"\"Breadth first search.\"\"\"\n",
    "    node = Node(problem.start)\n",
    "    if problem.is_goal_state(node.state):\n",
    "        return solution(node)\n",
    "    frontier = deque()\n",
    "    frontier.append(node)\n",
    "    explored = set()\n",
    "    while frontier:\n",
    "        node = frontier.popleft()\n",
    "        explored.add(node.state)\n",
    "        if node.depth <= 10:\n",
    "            for action in problem.actions(node.state):\n",
    "                child = node.child_node(problem, action)\n",
    "                if child.state not in explored and child not in frontier:\n",
    "                    if problem.is_goal_state(child.state):\n",
    "                        print('Number of states enqueued: {}'.format(len(explored)))\n",
    "                        return solution(child)\n",
    "                    frontier.append(child)  # inserts to right\n",
    "    return 'failure'"
   ]
  },
  {
   "cell_type": "markdown",
   "metadata": {},
   "source": [
    "### Iterative deepening search"
   ]
  },
  {
   "cell_type": "code",
   "execution_count": 16,
   "metadata": {},
   "outputs": [],
   "source": [
    "def recursive_dls(node, problem, limit):\n",
    "    \"\"\"Recursive helper function for depth limited search.\"\"\"\n",
    "    if problem.is_goal_state(node.state):\n",
    "        return solution(node)\n",
    "    elif limit == 0:\n",
    "        return 'cutoff'\n",
    "    else:\n",
    "        cutoff_occured = False\n",
    "        for action in problem.actions(node.state):\n",
    "            child = node.child_node(problem, action)\n",
    "            result = recursive_dls(child, problem, limit - 1)\n",
    "            if result == 'cutoff':\n",
    "                cutoff_occured = True\n",
    "            elif result != 'failure':\n",
    "                return result\n",
    "        if cutoff_occured:\n",
    "            return 'cutoff'\n",
    "        else:\n",
    "            return 'failure'\n",
    "\n",
    "\n",
    "def depth_limited_search(problem, limit):\n",
    "    node = Node(problem.start)\n",
    "    return recursive_dls(node, problem, limit)\n",
    "\n",
    "\n",
    "def iterative_deepening_search(problem):\n",
    "    for depth in range(10):\n",
    "        result = depth_limited_search(problem, depth)\n",
    "        if result != 'cutoff':\n",
    "            return result"
   ]
  },
  {
   "cell_type": "markdown",
   "metadata": {},
   "source": [
    "### Informed Search: A* using heuristics"
   ]
  },
  {
   "cell_type": "code",
   "execution_count": 17,
   "metadata": {},
   "outputs": [],
   "source": [
    "def astar_search(problem, heuristic=None):\n",
    "    \"\"\"A* search using a heuristic function.\"\"\"\n",
    "    node = Node(problem.start)\n",
    "    node.path_cost = 0 + problem.h(node.state, heuristic)\n",
    "    if problem.is_goal_state(node.state):\n",
    "        return solution(node)\n",
    "    frontier = []  # priority queue that also supports lookup\n",
    "    heapq.heappush(frontier, node)\n",
    "    explored = set()\n",
    "    while frontier:\n",
    "        node = heapq.heappop(frontier)\n",
    "        if problem.is_goal_state(node.state):\n",
    "            print('Number of states enqueued: {}'.format(len(explored)))\n",
    "            return solution(node)\n",
    "        explored.add(node.state)\n",
    "        if node.depth <= 10:\n",
    "            for action in problem.actions(node.state):\n",
    "                child = node.child_node(problem, action)\n",
    "                child.f = child.path_cost + problem.h(child.state, heuristic)\n",
    "                if child.state not in explored and child not in frontier:\n",
    "                    heapq.heappush(frontier, child)\n",
    "                elif child in frontier:\n",
    "                    # get that node\n",
    "                    for el in frontier:\n",
    "                        if el == child and child.f < el.f:  # same state, different path\n",
    "                            frontier.remove(el)\n",
    "                            heapq.heappush(frontier, child)\n",
    "    return 'failure'"
   ]
  },
  {
   "cell_type": "markdown",
   "metadata": {},
   "source": [
    "#### Heuristic Function: Manhattan Distance"
   ]
  },
  {
   "cell_type": "code",
   "execution_count": 18,
   "metadata": {},
   "outputs": [],
   "source": [
    "def solution(node):\n",
    "    \"\"\"Returns the path, i.e. a sequence of nodes from start to goal state.\"\"\"\n",
    "    res = []\n",
    "    while node.parent:\n",
    "        res.append(node)\n",
    "        node = node.parent\n",
    "    res.append(node)\n",
    "    return res[::-1]\n",
    "\n",
    "\n",
    "def get_2d_index(i):\n",
    "    if i <= 2:\n",
    "        return 0, i\n",
    "    elif i <= 5:\n",
    "        return 1, i - 3\n",
    "    else:\n",
    "        return 2, i - 6\n",
    "\n",
    "\n",
    "def dist(ix1, ix2):\n",
    "    i1, j1 = get_2d_index(ix1)\n",
    "    i2, j2 = get_2d_index(ix2)\n",
    "    return abs(i2 - i1) + abs(j2 - j1)\n",
    "\n",
    "\n",
    "def manhattan_distance(state, goal):\n",
    "    res = 0\n",
    "    for ix1, el in enumerate(state):\n",
    "        ix2 = goal.index(el)\n",
    "        res += dist(ix1, ix2)\n",
    "    return res"
   ]
  },
  {
   "cell_type": "markdown",
   "metadata": {},
   "source": [
    "### Tests"
   ]
  },
  {
   "cell_type": "code",
   "execution_count": 19,
   "metadata": {},
   "outputs": [],
   "source": [
    "start = (2,4,3,1,5,6,7,8,0)\n",
    "goal = (1,2,3,4,5,6,7,8,0)"
   ]
  },
  {
   "cell_type": "code",
   "execution_count": 20,
   "metadata": {},
   "outputs": [
    {
     "name": "stdout",
     "output_type": "stream",
     "text": [
      "Number of states enqueued: 117\n"
     ]
    },
    {
     "data": {
      "text/plain": [
       "[(2, 4, 3, 1, 5, 6, 7, 8, 0)\tNone,\n",
       " (2, 4, 3, 1, 5, 6, 7, 0, 8)\tleft,\n",
       " (2, 4, 3, 1, 0, 6, 7, 5, 8)\tup,\n",
       " (2, 0, 3, 1, 4, 6, 7, 5, 8)\tup,\n",
       " (0, 2, 3, 1, 4, 6, 7, 5, 8)\tleft,\n",
       " (1, 2, 3, 0, 4, 6, 7, 5, 8)\tdown,\n",
       " (1, 2, 3, 4, 0, 6, 7, 5, 8)\tright,\n",
       " (1, 2, 3, 4, 5, 6, 7, 0, 8)\tdown,\n",
       " (1, 2, 3, 4, 5, 6, 7, 8, 0)\tright]"
      ]
     },
     "execution_count": 20,
     "metadata": {},
     "output_type": "execute_result"
    }
   ],
   "source": [
    "puzzle = Problem(start, goal)\n",
    "breadth_first_search(puzzle)"
   ]
  },
  {
   "cell_type": "code",
   "execution_count": 22,
   "metadata": {},
   "outputs": [
    {
     "data": {
      "text/plain": [
       "[(2, 4, 3, 1, 5, 6, 7, 8, 0)\tNone,\n",
       " (2, 4, 3, 1, 5, 6, 7, 0, 8)\tleft,\n",
       " (2, 4, 3, 1, 0, 6, 7, 5, 8)\tup,\n",
       " (2, 0, 3, 1, 4, 6, 7, 5, 8)\tup,\n",
       " (0, 2, 3, 1, 4, 6, 7, 5, 8)\tleft,\n",
       " (1, 2, 3, 0, 4, 6, 7, 5, 8)\tdown,\n",
       " (1, 2, 3, 4, 0, 6, 7, 5, 8)\tright,\n",
       " (1, 2, 3, 4, 5, 6, 7, 0, 8)\tdown,\n",
       " (1, 2, 3, 4, 5, 6, 7, 8, 0)\tright]"
      ]
     },
     "execution_count": 22,
     "metadata": {},
     "output_type": "execute_result"
    }
   ],
   "source": [
    "iterative_deepening_search(puzzle)"
   ]
  },
  {
   "cell_type": "code",
   "execution_count": 21,
   "metadata": {},
   "outputs": [
    {
     "name": "stdout",
     "output_type": "stream",
     "text": [
      "Number of states enqueued: 21\n"
     ]
    },
    {
     "data": {
      "text/plain": [
       "[(2, 4, 3, 1, 5, 6, 7, 8, 0)\tNone,\n",
       " (2, 4, 3, 1, 5, 0, 7, 8, 6)\tup,\n",
       " (2, 4, 3, 1, 0, 5, 7, 8, 6)\tleft,\n",
       " (2, 0, 3, 1, 4, 5, 7, 8, 6)\tup,\n",
       " (0, 2, 3, 1, 4, 5, 7, 8, 6)\tleft,\n",
       " (1, 2, 3, 0, 4, 5, 7, 8, 6)\tdown,\n",
       " (1, 2, 3, 4, 0, 5, 7, 8, 6)\tright,\n",
       " (1, 2, 3, 4, 5, 0, 7, 8, 6)\tright,\n",
       " (1, 2, 3, 4, 5, 6, 7, 8, 0)\tdown]"
      ]
     },
     "execution_count": 21,
     "metadata": {},
     "output_type": "execute_result"
    }
   ],
   "source": [
    "astar_search(puzzle, None)"
   ]
  },
  {
   "cell_type": "code",
   "execution_count": 23,
   "metadata": {},
   "outputs": [
    {
     "name": "stdout",
     "output_type": "stream",
     "text": [
      "Number of states enqueued: 17\n"
     ]
    },
    {
     "data": {
      "text/plain": [
       "[(2, 4, 3, 1, 5, 6, 7, 8, 0)\tNone,\n",
       " (2, 4, 3, 1, 5, 0, 7, 8, 6)\tup,\n",
       " (2, 4, 3, 1, 0, 5, 7, 8, 6)\tleft,\n",
       " (2, 0, 3, 1, 4, 5, 7, 8, 6)\tup,\n",
       " (0, 2, 3, 1, 4, 5, 7, 8, 6)\tleft,\n",
       " (1, 2, 3, 0, 4, 5, 7, 8, 6)\tdown,\n",
       " (1, 2, 3, 4, 0, 5, 7, 8, 6)\tright,\n",
       " (1, 2, 3, 4, 5, 0, 7, 8, 6)\tright,\n",
       " (1, 2, 3, 4, 5, 6, 7, 8, 0)\tdown]"
      ]
     },
     "execution_count": 23,
     "metadata": {},
     "output_type": "execute_result"
    }
   ],
   "source": [
    "astar_search(puzzle, manhattan_distance)"
   ]
  }
 ],
 "metadata": {
  "kernelspec": {
   "display_name": "Python 3",
   "language": "python",
   "name": "python3"
  },
  "language_info": {
   "codemirror_mode": {
    "name": "ipython",
    "version": 3
   },
   "file_extension": ".py",
   "mimetype": "text/x-python",
   "name": "python",
   "nbconvert_exporter": "python",
   "pygments_lexer": "ipython3",
   "version": "3.6.8"
  }
 },
 "nbformat": 4,
 "nbformat_minor": 2
}
