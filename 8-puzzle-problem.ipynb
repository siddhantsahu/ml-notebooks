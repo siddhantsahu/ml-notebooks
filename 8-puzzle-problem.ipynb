{
 "cells": [
  {
   "cell_type": "code",
   "execution_count": 1,
   "metadata": {},
   "outputs": [],
   "source": [
    "import queue\n",
    "import numpy as np"
   ]
  },
  {
   "cell_type": "code",
   "execution_count": 2,
   "metadata": {},
   "outputs": [],
   "source": [
    "class Problem(object):\n",
    "    def __init__(self, start, goal):\n",
    "        \"\"\"Initializes the 8 puzzle board with start and goal states.\"\"\"\n",
    "        self.start = start\n",
    "        self.goal = goal\n",
    "        \n",
    "    def actions(self, state):\n",
    "        \"\"\"\n",
    "        Returns the list of actions possible in the given state.\n",
    "        \n",
    "        We define action in terms of the movement of the blank tile, i.e. the blank tile\n",
    "        can move either in L, R, U or D direction. So, we return the new location (i, j)\n",
    "        of the blank tile.\n",
    "        \"\"\"\n",
    "        # find index of blank tile, in this case 0\n",
    "        i, j = np.where(state == 0)\n",
    "        i = i[0]\n",
    "        j = j[0]\n",
    "        row, col = np.shape(state)\n",
    "        valid_moves = []  # new location for blank tile\n",
    "        if i-1 >= 0:\n",
    "            valid_moves.append((i-1, j))\n",
    "        if i+1 < row:\n",
    "            valid_moves.append((i+1, j))\n",
    "        if j+1 < col:\n",
    "            valid_moves.append((i, j+1))\n",
    "        if j-1 >= 0:\n",
    "            valid_moves.append((i, j-1))\n",
    "        return valid_moves\n",
    "    \n",
    "    def is_goal_state(self, state):\n",
    "        return np.array_equal(self.goal, state)\n",
    "    \n",
    "    def result(self, state, action):\n",
    "        \"\"\"Returns the new state when the action is applied to a state.\"\"\"\n",
    "        # swap the current location of blank tile with the new location\n",
    "        if isinstance(state, np.ndarray):\n",
    "            st = np.copy(state)\n",
    "        else:\n",
    "            raise TypeError(\"Need numpy.ndarray as input format for state.\")\n",
    "        ic, jc = np.where(st == 0)\n",
    "        ic = ic[0]\n",
    "        jc = jc[0]\n",
    "        # tuple unpacking swapping in python, even works for elements in numpy arrays\n",
    "        st[ic, jc], st[action[0], action[1]] = st[action[0], action[1]], st[ic, jc]\n",
    "        return st"
   ]
  },
  {
   "cell_type": "code",
   "execution_count": 3,
   "metadata": {},
   "outputs": [],
   "source": [
    "class Node:\n",
    "    def __init__(self, state, parent=None, action=None, path_cost=0):\n",
    "        self.state = state\n",
    "        self.parent = parent\n",
    "        self.action = action\n",
    "        self.path_cost = path_cost\n",
    "        self.depth = 0\n",
    "        if parent:\n",
    "            self.depth = self.parent.depth + 1\n",
    "    \n",
    "    def child_node(self, problem, action):\n",
    "        \"\"\"Compute child node given parent node.\"\"\"\n",
    "        new_state = problem.result(self.state, action)\n",
    "        path_cost = self.path_cost + 1\n",
    "        return Node(new_state, self, action, path_cost)\n",
    "    \n",
    "    def __repr__(self):\n",
    "        return 'NODE[state={}, depth={}]'.format(self.state, self.depth)\n",
    "\n",
    "    def __hash__(self):\n",
    "        return hash(''.join(map(str, self.state.flatten())))\n",
    "    \n",
    "    def __eq__(self, other):\n",
    "        return np.array_equal(self.state, other.state)\n",
    "    \n",
    "def solution(node):\n",
    "    \"\"\"Returns the path, i.e. a sequence of states from start to goal state.\"\"\"\n",
    "    res = []\n",
    "    while node.parent:\n",
    "        res.append(node.state)\n",
    "        node = node.parent\n",
    "    res.append(node.state)\n",
    "    return res[::-1]"
   ]
  },
  {
   "cell_type": "markdown",
   "metadata": {},
   "source": [
    "### Uninformed search: BFS"
   ]
  },
  {
   "cell_type": "code",
   "execution_count": 4,
   "metadata": {},
   "outputs": [],
   "source": [
    "def breadth_first_search(problem):\n",
    "    \"\"\"Breadth first search on a graph.\"\"\"\n",
    "    node = Node(problem.start)\n",
    "    if problem.is_goal_state(node.state):\n",
    "        return solution(node)\n",
    "    frontier = queue.Queue()\n",
    "    frontier.put(node)\n",
    "    explored = set()\n",
    "    while not frontier.empty():\n",
    "        node = frontier.get()\n",
    "        explored.add(node)\n",
    "        if node.depth <= 10:\n",
    "            for action in problem.actions(node.state):\n",
    "                child = node.child_node(problem, action)\n",
    "                if child not in explored:\n",
    "                    if problem.is_goal_state(child.state):\n",
    "                        return solution(child)\n",
    "                    frontier.put(child)\n",
    "    return 'Failure'"
   ]
  },
  {
   "cell_type": "code",
   "execution_count": 5,
   "metadata": {},
   "outputs": [],
   "source": [
    "start = np.array([[0, 1, 3], [4, 2, 5], [7, 8, 6]])\n",
    "goal = np.array([[1, 2, 3], [4, 5, 6], [7, 8, 0]])\n",
    "puzzle = Problem(start, goal)"
   ]
  },
  {
   "cell_type": "code",
   "execution_count": 6,
   "metadata": {},
   "outputs": [
    {
     "data": {
      "text/plain": [
       "[array([[0, 1, 3],\n",
       "        [4, 2, 5],\n",
       "        [7, 8, 6]]), array([[1, 0, 3],\n",
       "        [4, 2, 5],\n",
       "        [7, 8, 6]]), array([[1, 2, 3],\n",
       "        [4, 0, 5],\n",
       "        [7, 8, 6]]), array([[1, 2, 3],\n",
       "        [4, 5, 0],\n",
       "        [7, 8, 6]]), array([[1, 2, 3],\n",
       "        [4, 5, 6],\n",
       "        [7, 8, 0]])]"
      ]
     },
     "execution_count": 6,
     "metadata": {},
     "output_type": "execute_result"
    }
   ],
   "source": [
    "breadth_first_search(puzzle)"
   ]
  },
  {
   "cell_type": "markdown",
   "metadata": {},
   "source": [
    "### Iterative deepening search"
   ]
  },
  {
   "cell_type": "code",
   "execution_count": 7,
   "metadata": {},
   "outputs": [],
   "source": [
    "def recursive_dls(node, problem, limit):\n",
    "    \"\"\"Recursive helper function for depth limited search.\"\"\"\n",
    "    if problem.is_goal_state(node.state):\n",
    "        return solution(node)\n",
    "    elif limit == 0:\n",
    "        return 'Cutoff'\n",
    "    else:\n",
    "        cutoff_occured = False\n",
    "        for action in problem.actions(node.state):\n",
    "            child = node.child_node(problem, action)\n",
    "            result = recursive_dls(child, problem, limit-1)\n",
    "            if result == 'Cutoff':\n",
    "                cutoff_occured = True\n",
    "            elif result != 'Failure':\n",
    "                return result\n",
    "        if cutoff_occured:\n",
    "            return 'Cutoff'\n",
    "        else:\n",
    "            return 'Failure'\n",
    "        \n",
    "\n",
    "def depth_limited_search(problem, limit):\n",
    "    node = Node(problem.start)\n",
    "    return recursive_dls(node, problem, limit)\n",
    "\n",
    "\n",
    "def iterative_deepening_search(problem):\n",
    "    for depth in range(10):\n",
    "        result = depth_limited_search(problem, depth)\n",
    "        if result != 'Cutoff':\n",
    "            return result"
   ]
  },
  {
   "cell_type": "code",
   "execution_count": 8,
   "metadata": {},
   "outputs": [
    {
     "data": {
      "text/plain": [
       "[array([[0, 1, 3],\n",
       "        [4, 2, 5],\n",
       "        [7, 8, 6]]), array([[1, 0, 3],\n",
       "        [4, 2, 5],\n",
       "        [7, 8, 6]]), array([[1, 2, 3],\n",
       "        [4, 0, 5],\n",
       "        [7, 8, 6]]), array([[1, 2, 3],\n",
       "        [4, 5, 0],\n",
       "        [7, 8, 6]]), array([[1, 2, 3],\n",
       "        [4, 5, 6],\n",
       "        [7, 8, 0]])]"
      ]
     },
     "execution_count": 8,
     "metadata": {},
     "output_type": "execute_result"
    }
   ],
   "source": [
    "iterative_deepening_search(puzzle)"
   ]
  },
  {
   "cell_type": "markdown",
   "metadata": {},
   "source": [
    "### Informed Search: A* using heuristics"
   ]
  },
  {
   "cell_type": "code",
   "execution_count": null,
   "metadata": {},
   "outputs": [],
   "source": [
    "def recursive_best_first_search(problem):\n",
    "    node = Node(problem.start)\n",
    "    return rbfs(problem, node, infinity)\n",
    "\n",
    "\n",
    "def rbfs(problem, node, f_limit):\n",
    "    if problem.is_goal_state(node.state):\n",
    "        return solution(node)\n",
    "    successors = []\n",
    "    for action in problem.actions(node.state):\n",
    "        successors.add(node.child_node(problem, action))\n",
    "    if not successors:\n",
    "        return 'Failure'\n",
    "    for s in successors:\n",
    "        s.f = max(s.g + s.h, node.f)\n",
    "    while True:\n",
    "        # find lower"
   ]
  }
 ],
 "metadata": {
  "kernelspec": {
   "display_name": "Python 3",
   "language": "python",
   "name": "python3"
  },
  "language_info": {
   "codemirror_mode": {
    "name": "ipython",
    "version": 3
   },
   "file_extension": ".py",
   "mimetype": "text/x-python",
   "name": "python",
   "nbconvert_exporter": "python",
   "pygments_lexer": "ipython3",
   "version": "3.6.8"
  }
 },
 "nbformat": 4,
 "nbformat_minor": 2
}
